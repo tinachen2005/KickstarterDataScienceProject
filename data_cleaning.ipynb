{
 "cells": [
  {
   "cell_type": "markdown",
   "metadata": {},
   "source": [
    "## **Data Cleaning**"
   ]
  },
  {
   "cell_type": "markdown",
   "metadata": {},
   "source": [
    "Data Cleaning was done to tailor the data to our research question. "
   ]
  },
  {
   "cell_type": "markdown",
   "metadata": {},
   "source": [
    "Data cleaning was done to create a dataset from the raw data for analysis. After opening the original public_data tsv file, we observed that several variables were not available publicly and were only available in the restricted dataset which we did not have access to. These variables include NAME, URL_NAME, and PROJECT_PAGE_LOCATION_COUNTRY. In addition, there were some rows that had missing values, particularly in the PROJECT_PAGE_LOCATION_STATE, and PROJECT_PAGE_LOCATION_COUNTY columns which may indicate that these are user-inputs that are optional. These columns were dropped.\n"
   ]
  },
  {
   "cell_type": "code",
   "execution_count": 1,
   "metadata": {},
   "outputs": [],
   "source": [
    "import pandas as pd\n",
    "import numpy as np\n",
    "import matplotlib.pyplot as plt\n",
    "from sklearn.linear_model import LinearRegression, LogisticRegression\n",
    "from sklearn.model_selection import train_test_split \n",
    "import seaborn as sns\n",
    "import duckdb\n",
    "# import datetime"
   ]
  },
  {
   "cell_type": "markdown",
   "metadata": {},
   "source": [
    "We imported the data and printed out the first 5 rows to view the columns provided by the dataset."
   ]
  },
  {
   "cell_type": "code",
   "execution_count": 2,
   "metadata": {},
   "outputs": [
    {
     "name": "stderr",
     "output_type": "stream",
     "text": [
      "/var/folders/wp/nn2_qt4x0p96hfrk7plld7hw0000gn/T/ipykernel_7577/4156237419.py:1: DtypeWarning: Columns (9,11,15) have mixed types. Specify dtype option on import or set low_memory=False.\n",
      "  public_data = pd.read_csv('data/public_data.tsv', delimiter='\\t')\n"
     ]
    },
    {
     "data": {
      "text/html": [
       "<div>\n",
       "<style scoped>\n",
       "    .dataframe tbody tr th:only-of-type {\n",
       "        vertical-align: middle;\n",
       "    }\n",
       "\n",
       "    .dataframe tbody tr th {\n",
       "        vertical-align: top;\n",
       "    }\n",
       "\n",
       "    .dataframe thead th {\n",
       "        text-align: right;\n",
       "    }\n",
       "</style>\n",
       "<table border=\"1\" class=\"dataframe\">\n",
       "  <thead>\n",
       "    <tr style=\"text-align: right;\">\n",
       "      <th></th>\n",
       "      <th>CASEID</th>\n",
       "      <th>NAME</th>\n",
       "      <th>PID</th>\n",
       "      <th>CATEGORY</th>\n",
       "      <th>SUBCATEGORY</th>\n",
       "      <th>PROJECT_PAGE_LOCATION_NAME</th>\n",
       "      <th>PROJECT_PAGE_LOCATION_STATE</th>\n",
       "      <th>PROJECT_PAGE_LOCATION_COUNTY</th>\n",
       "      <th>PROJECT_PAGE_LOCATION_COUNTRY</th>\n",
       "      <th>UID</th>\n",
       "      <th>PROJECT_CURRENCY</th>\n",
       "      <th>GOAL_IN_ORIGINAL_CURRENCY</th>\n",
       "      <th>PLEDGED_IN_ORIGINAL_CURRENCY</th>\n",
       "      <th>GOAL_IN_USD</th>\n",
       "      <th>PLEDGED_IN_USD</th>\n",
       "      <th>BACKERS_COUNT</th>\n",
       "      <th>LAUNCHED_DATE</th>\n",
       "      <th>DEADLINE_DATE</th>\n",
       "      <th>STATE</th>\n",
       "      <th>URL_NAME</th>\n",
       "    </tr>\n",
       "  </thead>\n",
       "  <tbody>\n",
       "    <tr>\n",
       "      <th>0</th>\n",
       "      <td>1</td>\n",
       "      <td>MASKED BY ICPSR</td>\n",
       "      <td>2137925650</td>\n",
       "      <td>11</td>\n",
       "      <td>301</td>\n",
       "      <td>London</td>\n",
       "      <td>England</td>\n",
       "      <td>Greater London</td>\n",
       "      <td></td>\n",
       "      <td>1076478145</td>\n",
       "      <td>USD</td>\n",
       "      <td>100,000,000</td>\n",
       "      <td>0</td>\n",
       "      <td>$100,000,000</td>\n",
       "      <td>$0</td>\n",
       "      <td>0</td>\n",
       "      <td>8/11/2016</td>\n",
       "      <td>10/10/2016</td>\n",
       "      <td>canceled</td>\n",
       "      <td>MASKED BY ICPSR</td>\n",
       "    </tr>\n",
       "    <tr>\n",
       "      <th>1</th>\n",
       "      <td>2</td>\n",
       "      <td>MASKED BY ICPSR</td>\n",
       "      <td>1501531085</td>\n",
       "      <td>11</td>\n",
       "      <td>296</td>\n",
       "      <td>Los Angeles</td>\n",
       "      <td>CA</td>\n",
       "      <td>Los Angeles</td>\n",
       "      <td></td>\n",
       "      <td>224946798</td>\n",
       "      <td>USD</td>\n",
       "      <td>100,000,000</td>\n",
       "      <td>85</td>\n",
       "      <td>$100,000,000</td>\n",
       "      <td>$85</td>\n",
       "      <td>4</td>\n",
       "      <td>12/19/2019</td>\n",
       "      <td>2/14/2020</td>\n",
       "      <td>canceled</td>\n",
       "      <td>MASKED BY ICPSR</td>\n",
       "    </tr>\n",
       "    <tr>\n",
       "      <th>2</th>\n",
       "      <td>3</td>\n",
       "      <td>MASKED BY ICPSR</td>\n",
       "      <td>953415668</td>\n",
       "      <td>16</td>\n",
       "      <td>51</td>\n",
       "      <td>Mexico</td>\n",
       "      <td>Baja California</td>\n",
       "      <td>Tijuana</td>\n",
       "      <td></td>\n",
       "      <td>1772203542</td>\n",
       "      <td>MXN</td>\n",
       "      <td>100,000,000</td>\n",
       "      <td>10</td>\n",
       "      <td>$5,219,374</td>\n",
       "      <td>$1</td>\n",
       "      <td>1</td>\n",
       "      <td>3/1/2017</td>\n",
       "      <td>3/22/2017</td>\n",
       "      <td>failed</td>\n",
       "      <td>MASKED BY ICPSR</td>\n",
       "    </tr>\n",
       "    <tr>\n",
       "      <th>3</th>\n",
       "      <td>4</td>\n",
       "      <td>MASKED BY ICPSR</td>\n",
       "      <td>1371386304</td>\n",
       "      <td>18</td>\n",
       "      <td>18</td>\n",
       "      <td>Columbus</td>\n",
       "      <td>OH</td>\n",
       "      <td>Franklin</td>\n",
       "      <td></td>\n",
       "      <td>1373465389</td>\n",
       "      <td>USD</td>\n",
       "      <td>100,000,000</td>\n",
       "      <td>1</td>\n",
       "      <td>$100,000,000</td>\n",
       "      <td>$1</td>\n",
       "      <td>1</td>\n",
       "      <td>6/4/2018</td>\n",
       "      <td>7/5/2018</td>\n",
       "      <td>canceled</td>\n",
       "      <td>MASKED BY ICPSR</td>\n",
       "    </tr>\n",
       "    <tr>\n",
       "      <th>4</th>\n",
       "      <td>5</td>\n",
       "      <td>MASKED BY ICPSR</td>\n",
       "      <td>1720842777</td>\n",
       "      <td>1</td>\n",
       "      <td>22</td>\n",
       "      <td>Toronto</td>\n",
       "      <td>ON</td>\n",
       "      <td>Toronto</td>\n",
       "      <td></td>\n",
       "      <td>1455666383</td>\n",
       "      <td>CAD</td>\n",
       "      <td>100,000,000</td>\n",
       "      <td>0</td>\n",
       "      <td>$80,610,122</td>\n",
       "      <td>$0</td>\n",
       "      <td>0</td>\n",
       "      <td>5/1/2015</td>\n",
       "      <td>6/30/2015</td>\n",
       "      <td>failed</td>\n",
       "      <td>MASKED BY ICPSR</td>\n",
       "    </tr>\n",
       "  </tbody>\n",
       "</table>\n",
       "</div>"
      ],
      "text/plain": [
       "   CASEID             NAME         PID  CATEGORY  SUBCATEGORY  \\\n",
       "0       1  MASKED BY ICPSR  2137925650        11          301   \n",
       "1       2  MASKED BY ICPSR  1501531085        11          296   \n",
       "2       3  MASKED BY ICPSR   953415668        16           51   \n",
       "3       4  MASKED BY ICPSR  1371386304        18           18   \n",
       "4       5  MASKED BY ICPSR  1720842777         1           22   \n",
       "\n",
       "  PROJECT_PAGE_LOCATION_NAME PROJECT_PAGE_LOCATION_STATE  \\\n",
       "0                     London                     England   \n",
       "1                Los Angeles                          CA   \n",
       "2                     Mexico             Baja California   \n",
       "3                   Columbus                          OH   \n",
       "4                    Toronto                          ON   \n",
       "\n",
       "  PROJECT_PAGE_LOCATION_COUNTY PROJECT_PAGE_LOCATION_COUNTRY         UID  \\\n",
       "0               Greater London                                1076478145   \n",
       "1                  Los Angeles                                 224946798   \n",
       "2                      Tijuana                                1772203542   \n",
       "3                     Franklin                                1373465389   \n",
       "4                      Toronto                                1455666383   \n",
       "\n",
       "  PROJECT_CURRENCY GOAL_IN_ORIGINAL_CURRENCY PLEDGED_IN_ORIGINAL_CURRENCY  \\\n",
       "0              USD               100,000,000                            0   \n",
       "1              USD               100,000,000                           85   \n",
       "2              MXN               100,000,000                           10   \n",
       "3              USD               100,000,000                            1   \n",
       "4              CAD               100,000,000                            0   \n",
       "\n",
       "    GOAL_IN_USD PLEDGED_IN_USD BACKERS_COUNT LAUNCHED_DATE DEADLINE_DATE  \\\n",
       "0  $100,000,000             $0             0     8/11/2016    10/10/2016   \n",
       "1  $100,000,000            $85             4    12/19/2019     2/14/2020   \n",
       "2    $5,219,374             $1             1      3/1/2017     3/22/2017   \n",
       "3  $100,000,000             $1             1      6/4/2018      7/5/2018   \n",
       "4   $80,610,122             $0             0      5/1/2015     6/30/2015   \n",
       "\n",
       "      STATE         URL_NAME  \n",
       "0  canceled  MASKED BY ICPSR  \n",
       "1  canceled  MASKED BY ICPSR  \n",
       "2    failed  MASKED BY ICPSR  \n",
       "3  canceled  MASKED BY ICPSR  \n",
       "4    failed  MASKED BY ICPSR  "
      ]
     },
     "execution_count": 2,
     "metadata": {},
     "output_type": "execute_result"
    }
   ],
   "source": [
    "public_data = pd.read_csv('data/public_data.tsv', delimiter='\\t')\n",
    "public_data.head()"
   ]
  },
  {
   "cell_type": "markdown",
   "metadata": {},
   "source": [
    "We checked for duplicates in the public_data.tsv dataset by selecting the rows that appeared more than once according to the unique PID. Since there are no rows that appeared more than once, we know that there is no duplicate PIDs in the dataset."
   ]
  },
  {
   "cell_type": "code",
   "execution_count": 3,
   "metadata": {},
   "outputs": [
    {
     "data": {
      "text/html": [
       "<div>\n",
       "<style scoped>\n",
       "    .dataframe tbody tr th:only-of-type {\n",
       "        vertical-align: middle;\n",
       "    }\n",
       "\n",
       "    .dataframe tbody tr th {\n",
       "        vertical-align: top;\n",
       "    }\n",
       "\n",
       "    .dataframe thead th {\n",
       "        text-align: right;\n",
       "    }\n",
       "</style>\n",
       "<table border=\"1\" class=\"dataframe\">\n",
       "  <thead>\n",
       "    <tr style=\"text-align: right;\">\n",
       "      <th></th>\n",
       "      <th>PID</th>\n",
       "      <th>count(PID)</th>\n",
       "    </tr>\n",
       "  </thead>\n",
       "  <tbody>\n",
       "  </tbody>\n",
       "</table>\n",
       "</div>"
      ],
      "text/plain": [
       "Empty DataFrame\n",
       "Columns: [PID, count(PID)]\n",
       "Index: []"
      ]
     },
     "execution_count": 3,
     "metadata": {},
     "output_type": "execute_result"
    }
   ],
   "source": [
    "duckdb.sql(\"SELECT PID, COUNT(PID) FROM public_data GROUP BY PID HAVING COUNT(PID) > 1\").df()"
   ]
  },
  {
   "cell_type": "markdown",
   "metadata": {},
   "source": [
    "We dropped the following columns: NAME, PROJECT_PAGE_LOCATION_COUNTRY, and URL_NAME since they contained restricted information that wasn't available to the public. We also dropped the PROJECT_PAGE_LOCATION_STATE and PROJECT_PAGE_LOCATION_COUNTY since they were prone to user-input error and it is not plausible to clean all 600,000+ entries manually.\n",
    "\n",
    "We also dropped the UID, and the rows that are not successful or failed (canceled or suspended). By definition, a canceled project is one that the project leader has stopped voluntarily and a suspended project is one that was taken down by KickStarter moderators for violating their terms of service or other policies. We chose to drop the canceled and suspended projects because we do not have further information regarding why they were canceled or suspended, since we do not have access to the project's name or url in the public dataset available to us. We could not make use of canceled or suspended projects in our research question either, since cancellations and suspensions of a campaign are subject to individual's decisions and frequently changing Kickstarter terms and conditions/policies which may vary from individual to individual/year to year."
   ]
  },
  {
   "cell_type": "code",
   "execution_count": 13,
   "metadata": {},
   "outputs": [
    {
     "name": "stdout",
     "output_type": "stream",
     "text": [
      "   CATEGORY PROJECT_PAGE_LOCATION_NAME PROJECT_CURRENCY  \\\n",
      "0        12                      Osaka              JPY   \n",
      "1        12                      Tokyo              JPY   \n",
      "2        12                   Ishikawa              JPY   \n",
      "3        12                  Chiba-shi              JPY   \n",
      "4        16                      Tokyo              JPY   \n",
      "\n",
      "  GOAL_IN_ORIGINAL_CURRENCY PLEDGED_IN_ORIGINAL_CURRENCY GOAL_IN_USD  \\\n",
      "0                68,000,000                   81,030,744    $623,968   \n",
      "1                53,808,516                  481,621,841    $510,735   \n",
      "2                45,000,000                   98,863,825    $414,327   \n",
      "3                16,665,000                   23,606,140    $148,285   \n",
      "4                15,000,000                   17,406,300    $133,229   \n",
      "\n",
      "  PLEDGED_IN_USD BACKERS_COUNT LAUNCHED_DATE DEADLINE_DATE       STATE  \n",
      "0       $743,538         12613     3/26/2018      5/5/2018  successful  \n",
      "1     $4,571,420         46307     7/27/2020     8/29/2020  successful  \n",
      "2       $910,266          8051      6/3/2019     6/11/2019  successful  \n",
      "3       $210,047          1705     9/20/2018    10/20/2018  successful  \n",
      "4       $154,601           656     10/7/2017     12/6/2017  successful  \n"
     ]
    }
   ],
   "source": [
    "public_data_df = pd.DataFrame(public_data)\n",
    "clean_data = public_data_df.drop(columns = [\"CASEID\", \"PID\",\"NAME\", \"SUBCATEGORY\", \n",
    "\"PROJECT_PAGE_LOCATION_COUNTRY\", \"URL_NAME\", \"UID\", \n",
    "\"PROJECT_PAGE_LOCATION_STATE\", \"PROJECT_PAGE_LOCATION_COUNTY\"])\n",
    "\n",
    "clean_data = duckdb.sql(\"SELECT * FROM clean_data WHERE STATE = 'successful' OR STATE = 'failed'\").df()\n",
    "print(clean_data.head())"
   ]
  },
  {
   "cell_type": "markdown",
   "metadata": {},
   "source": [
    "We also changed all the numerical string values in the dataframe into integers for us to work with. "
   ]
  },
  {
   "cell_type": "code",
   "execution_count": 14,
   "metadata": {},
   "outputs": [
    {
     "name": "stderr",
     "output_type": "stream",
     "text": [
      "<>:5: SyntaxWarning: invalid escape sequence '\\$'\n",
      "<>:7: SyntaxWarning: invalid escape sequence '\\$'\n",
      "<>:5: SyntaxWarning: invalid escape sequence '\\$'\n",
      "<>:7: SyntaxWarning: invalid escape sequence '\\$'\n",
      "/var/folders/wp/nn2_qt4x0p96hfrk7plld7hw0000gn/T/ipykernel_7577/2567195272.py:5: SyntaxWarning: invalid escape sequence '\\$'\n",
      "  clean_data[\"GOAL_IN_USD\"] = clean_data[\"GOAL_IN_USD\"].replace({'[\\$]': '',',': ''},\n",
      "/var/folders/wp/nn2_qt4x0p96hfrk7plld7hw0000gn/T/ipykernel_7577/2567195272.py:7: SyntaxWarning: invalid escape sequence '\\$'\n",
      "  clean_data[\"PLEDGED_IN_USD\"] = clean_data[\"PLEDGED_IN_USD\"].replace({'[\\$]': '',',': ''},\n"
     ]
    },
    {
     "name": "stdout",
     "output_type": "stream",
     "text": [
      "   CATEGORY PROJECT_PAGE_LOCATION_NAME PROJECT_CURRENCY  \\\n",
      "0        12                      Osaka              JPY   \n",
      "1        12                      Tokyo              JPY   \n",
      "2        12                   Ishikawa              JPY   \n",
      "3        12                  Chiba-shi              JPY   \n",
      "4        16                      Tokyo              JPY   \n",
      "\n",
      "   GOAL_IN_ORIGINAL_CURRENCY  PLEDGED_IN_ORIGINAL_CURRENCY  GOAL_IN_USD  \\\n",
      "0                   68000000                      81030744       623968   \n",
      "1                   53808516                     481621841       510735   \n",
      "2                   45000000                      98863825       414327   \n",
      "3                   16665000                      23606140       148285   \n",
      "4                   15000000                      17406300       133229   \n",
      "\n",
      "   PLEDGED_IN_USD BACKERS_COUNT LAUNCHED_DATE DEADLINE_DATE       STATE  \n",
      "0          743538         12613     3/26/2018      5/5/2018  successful  \n",
      "1         4571420         46307     7/27/2020     8/29/2020  successful  \n",
      "2          910266          8051      6/3/2019     6/11/2019  successful  \n",
      "3          210047          1705     9/20/2018    10/20/2018  successful  \n",
      "4          154601           656     10/7/2017     12/6/2017  successful  \n"
     ]
    }
   ],
   "source": [
    "clean_data[\"GOAL_IN_ORIGINAL_CURRENCY\"] = clean_data[\"GOAL_IN_ORIGINAL_CURRENCY\"].replace({',': ''}, \n",
    "                                                                regex=True).astype(int)\n",
    "clean_data[\"PLEDGED_IN_ORIGINAL_CURRENCY\"] = clean_data[\"PLEDGED_IN_ORIGINAL_CURRENCY\"].replace({',': ''},\n",
    "                                                                     regex=True).astype(int)\n",
    "clean_data[\"GOAL_IN_USD\"] = clean_data[\"GOAL_IN_USD\"].replace({'[\\$]': '',',': ''}, \n",
    "                                                    regex=True).astype(int)\n",
    "clean_data[\"PLEDGED_IN_USD\"] = clean_data[\"PLEDGED_IN_USD\"].replace({'[\\$]': '',',': ''}, \n",
    "                                                            regex=True).astype(int)\n",
    "print(clean_data.head())"
   ]
  },
  {
   "cell_type": "markdown",
   "metadata": {},
   "source": [
    "We also checked for NaaN values by checking if there were any rows where the BACKERS_COUNT is null and if it was an empty string. We didn't realize until we started creating scatterplots that there were other inputs like Strings containing a single space that were still lying in our data. \n",
    "\n",
    "We also checked for oddities and outliers. For instance, we found rows where the BACKERS_COUNT variable was Null so we cross examined the identified rows' PLEDGED_IN_ORIGINAL_CURRENCY columns to see if the value was 0 or not. If it was 0, then we replaced the NaaN values with 0, assuming there were no backers and thus no money pledged. "
   ]
  },
  {
   "cell_type": "code",
   "execution_count": 6,
   "metadata": {},
   "outputs": [
    {
     "name": "stdout",
     "output_type": "stream",
     "text": [
      "The number of rows where BACKERS_COUNT is Null: 0\n",
      "The number of rows where BACKERS_COUNT is an Empty String: 0\n",
      "The number of rows where BACKERS_COUNT is a String containing a space: 56\n",
      "Cleaned the rows that contained a String with a single space\n",
      "The number of rows where BACKERS_COUNT is a String containing a space: 0\n"
     ]
    }
   ],
   "source": [
    "backers_count_null = duckdb.sql(\"SELECT * FROM clean_data WHERE BACKERS_COUNT IS NULL \").df()\n",
    "print(\"The number of rows where BACKERS_COUNT is Null: \" + str(len(backers_count_null)))\n",
    "\n",
    "backers_count_null = duckdb.sql(\"SELECT * FROM clean_data WHERE BACKERS_COUNT = ''  \").df()\n",
    "print(\"The number of rows where BACKERS_COUNT is an Empty String: \" + str(len(backers_count_null)))\n",
    "\n",
    "backers_count_null = duckdb.sql(\"SELECT * FROM clean_data WHERE BACKERS_COUNT = ' ' \").df()\n",
    "print(\"The number of rows where BACKERS_COUNT is a String containing a space: \" + str(len(backers_count_null)))\n",
    "\n",
    "clean_data = duckdb.sql(\"SELECT * FROM clean_data WHERE NOT BACKERS_COUNT = ' '\").df()\n",
    "print(\"Cleaned the rows that contained a String with a single space\")\n",
    "\n",
    "backers_count_null = duckdb.sql(\"SELECT * FROM clean_data WHERE BACKERS_COUNT = ' ' \").df()\n",
    "print(\"The number of rows where BACKERS_COUNT is a String containing a space: \" + str(len(backers_count_null)))\n",
    "clean_data[\"BACKERS_COUNT\"] = clean_data[\"BACKERS_COUNT\"].astype(int)"
   ]
  },
  {
   "cell_type": "markdown",
   "metadata": {},
   "source": [
    "We converted the LAUNCHED_DATE and DEADLINE_DATE to datetime objects so we could do math with the two dates to get the length of each campaign.\n",
    "\n",
    "We then calculated the difference between the DEADLINE_DATE and LAUNCHED_DATE to get the duration in days that each project fundraiser ran for and added it as a new column to the clean_data."
   ]
  },
  {
   "cell_type": "code",
   "execution_count": 15,
   "metadata": {},
   "outputs": [
    {
     "name": "stdout",
     "output_type": "stream",
     "text": [
      "   CATEGORY PROJECT_PAGE_LOCATION_NAME PROJECT_CURRENCY  \\\n",
      "0        12                      Osaka              JPY   \n",
      "1        12                      Tokyo              JPY   \n",
      "2        12                   Ishikawa              JPY   \n",
      "3        12                  Chiba-shi              JPY   \n",
      "4        16                      Tokyo              JPY   \n",
      "\n",
      "   GOAL_IN_ORIGINAL_CURRENCY  PLEDGED_IN_ORIGINAL_CURRENCY  GOAL_IN_USD  \\\n",
      "0                   68000000                      81030744       623968   \n",
      "1                   53808516                     481621841       510735   \n",
      "2                   45000000                      98863825       414327   \n",
      "3                   16665000                      23606140       148285   \n",
      "4                   15000000                      17406300       133229   \n",
      "\n",
      "   PLEDGED_IN_USD BACKERS_COUNT LAUNCHED_DATE DEADLINE_DATE       STATE  \\\n",
      "0          743538         12613    2018-03-26    2018-05-05  successful   \n",
      "1         4571420         46307    2020-07-27    2020-08-29  successful   \n",
      "2          910266          8051    2019-06-03    2019-06-11  successful   \n",
      "3          210047          1705    2018-09-20    2018-10-20  successful   \n",
      "4          154601           656    2017-10-07    2017-12-06  successful   \n",
      "\n",
      "   duration_in_days  \n",
      "0                40  \n",
      "1                33  \n",
      "2                 8  \n",
      "3                30  \n",
      "4                60  \n"
     ]
    }
   ],
   "source": [
    "clean_data['LAUNCHED_DATE'] = pd.to_datetime(clean_data['LAUNCHED_DATE'], format = 'mixed')\n",
    "clean_data['DEADLINE_DATE'] = pd.to_datetime(clean_data['DEADLINE_DATE'], format = 'mixed')\n",
    "\n",
    "#new column for length of campaign\n",
    "clean_data['duration_in_days'] = (clean_data['DEADLINE_DATE'] \n",
    "                                      - clean_data['LAUNCHED_DATE']).dt.days\n",
    "print(clean_data.head())"
   ]
  },
  {
   "cell_type": "markdown",
   "metadata": {},
   "source": [
    "We changed the LAUNCHED_DATE and DEADLINE_DATE to only the corresponding year as we intend to analyzing the years that the campaigns were launched and finished in. \n",
    "\n",
    "The DEADLINE_DATE and LAUNCHED_DATE columns were then dropped."
   ]
  },
  {
   "cell_type": "code",
   "execution_count": 16,
   "metadata": {},
   "outputs": [
    {
     "name": "stdout",
     "output_type": "stream",
     "text": [
      "   CATEGORY PROJECT_PAGE_LOCATION_NAME PROJECT_CURRENCY  \\\n",
      "0        12                      Osaka              JPY   \n",
      "1        12                      Tokyo              JPY   \n",
      "2        12                   Ishikawa              JPY   \n",
      "3        12                  Chiba-shi              JPY   \n",
      "4        16                      Tokyo              JPY   \n",
      "\n",
      "   GOAL_IN_ORIGINAL_CURRENCY  PLEDGED_IN_ORIGINAL_CURRENCY  GOAL_IN_USD  \\\n",
      "0                   68000000                      81030744       623968   \n",
      "1                   53808516                     481621841       510735   \n",
      "2                   45000000                      98863825       414327   \n",
      "3                   16665000                      23606140       148285   \n",
      "4                   15000000                      17406300       133229   \n",
      "\n",
      "   PLEDGED_IN_USD BACKERS_COUNT       STATE  duration_in_days  launched_year  \n",
      "0          743538         12613  successful                40           2018  \n",
      "1         4571420         46307  successful                33           2020  \n",
      "2          910266          8051  successful                 8           2019  \n",
      "3          210047          1705  successful                30           2018  \n",
      "4          154601           656  successful                60           2017  \n"
     ]
    }
   ],
   "source": [
    "clean_data['launched_year'] = clean_data['LAUNCHED_DATE'].dt.year\n",
    "clean_data = clean_data.drop(columns = [\"DEADLINE_DATE\", \"LAUNCHED_DATE\"])\n",
    "print(clean_data.head())"
   ]
  },
  {
   "cell_type": "markdown",
   "metadata": {},
   "source": [
    "We then made the categorical variable, STATE, into a binary variable so we can run logit on it with other variables later to find possible predictors for the success and/or failure of a project."
   ]
  },
  {
   "cell_type": "code",
   "execution_count": 9,
   "metadata": {},
   "outputs": [
    {
     "data": {
      "text/html": [
       "<div>\n",
       "<style scoped>\n",
       "    .dataframe tbody tr th:only-of-type {\n",
       "        vertical-align: middle;\n",
       "    }\n",
       "\n",
       "    .dataframe tbody tr th {\n",
       "        vertical-align: top;\n",
       "    }\n",
       "\n",
       "    .dataframe thead th {\n",
       "        text-align: right;\n",
       "    }\n",
       "</style>\n",
       "<table border=\"1\" class=\"dataframe\">\n",
       "  <thead>\n",
       "    <tr style=\"text-align: right;\">\n",
       "      <th></th>\n",
       "      <th>CATEGORY</th>\n",
       "      <th>PROJECT_PAGE_LOCATION_NAME</th>\n",
       "      <th>PROJECT_CURRENCY</th>\n",
       "      <th>GOAL_IN_ORIGINAL_CURRENCY</th>\n",
       "      <th>PLEDGED_IN_ORIGINAL_CURRENCY</th>\n",
       "      <th>GOAL_IN_USD</th>\n",
       "      <th>PLEDGED_IN_USD</th>\n",
       "      <th>BACKERS_COUNT</th>\n",
       "      <th>STATE</th>\n",
       "      <th>duration_in_days</th>\n",
       "      <th>launched_year</th>\n",
       "    </tr>\n",
       "  </thead>\n",
       "  <tbody>\n",
       "    <tr>\n",
       "      <th>0</th>\n",
       "      <td>12</td>\n",
       "      <td>Osaka</td>\n",
       "      <td>JPY</td>\n",
       "      <td>68000000</td>\n",
       "      <td>81030744</td>\n",
       "      <td>623968</td>\n",
       "      <td>743538</td>\n",
       "      <td>12613</td>\n",
       "      <td>1</td>\n",
       "      <td>40</td>\n",
       "      <td>2018</td>\n",
       "    </tr>\n",
       "    <tr>\n",
       "      <th>1</th>\n",
       "      <td>12</td>\n",
       "      <td>Tokyo</td>\n",
       "      <td>JPY</td>\n",
       "      <td>53808516</td>\n",
       "      <td>481621841</td>\n",
       "      <td>510735</td>\n",
       "      <td>4571420</td>\n",
       "      <td>46307</td>\n",
       "      <td>1</td>\n",
       "      <td>33</td>\n",
       "      <td>2020</td>\n",
       "    </tr>\n",
       "    <tr>\n",
       "      <th>2</th>\n",
       "      <td>12</td>\n",
       "      <td>Ishikawa</td>\n",
       "      <td>JPY</td>\n",
       "      <td>45000000</td>\n",
       "      <td>98863825</td>\n",
       "      <td>414327</td>\n",
       "      <td>910266</td>\n",
       "      <td>8051</td>\n",
       "      <td>1</td>\n",
       "      <td>8</td>\n",
       "      <td>2019</td>\n",
       "    </tr>\n",
       "    <tr>\n",
       "      <th>3</th>\n",
       "      <td>12</td>\n",
       "      <td>Chiba-shi</td>\n",
       "      <td>JPY</td>\n",
       "      <td>16665000</td>\n",
       "      <td>23606140</td>\n",
       "      <td>148285</td>\n",
       "      <td>210047</td>\n",
       "      <td>1705</td>\n",
       "      <td>1</td>\n",
       "      <td>30</td>\n",
       "      <td>2018</td>\n",
       "    </tr>\n",
       "    <tr>\n",
       "      <th>4</th>\n",
       "      <td>16</td>\n",
       "      <td>Tokyo</td>\n",
       "      <td>JPY</td>\n",
       "      <td>15000000</td>\n",
       "      <td>17406300</td>\n",
       "      <td>133229</td>\n",
       "      <td>154601</td>\n",
       "      <td>656</td>\n",
       "      <td>1</td>\n",
       "      <td>60</td>\n",
       "      <td>2017</td>\n",
       "    </tr>\n",
       "  </tbody>\n",
       "</table>\n",
       "</div>"
      ],
      "text/plain": [
       "   CATEGORY PROJECT_PAGE_LOCATION_NAME PROJECT_CURRENCY  \\\n",
       "0        12                      Osaka              JPY   \n",
       "1        12                      Tokyo              JPY   \n",
       "2        12                   Ishikawa              JPY   \n",
       "3        12                  Chiba-shi              JPY   \n",
       "4        16                      Tokyo              JPY   \n",
       "\n",
       "   GOAL_IN_ORIGINAL_CURRENCY  PLEDGED_IN_ORIGINAL_CURRENCY  GOAL_IN_USD  \\\n",
       "0                   68000000                      81030744       623968   \n",
       "1                   53808516                     481621841       510735   \n",
       "2                   45000000                      98863825       414327   \n",
       "3                   16665000                      23606140       148285   \n",
       "4                   15000000                      17406300       133229   \n",
       "\n",
       "   PLEDGED_IN_USD  BACKERS_COUNT  STATE  duration_in_days  launched_year  \n",
       "0          743538          12613      1                40           2018  \n",
       "1         4571420          46307      1                33           2020  \n",
       "2          910266           8051      1                 8           2019  \n",
       "3          210047           1705      1                30           2018  \n",
       "4          154601            656      1                60           2017  "
      ]
     },
     "execution_count": 9,
     "metadata": {},
     "output_type": "execute_result"
    }
   ],
   "source": [
    "clean_data[\"STATE\"] = (clean_data[\"STATE\"] ==\"successful\").astype(int)\n",
    "clean_data.head()"
   ]
  },
  {
   "cell_type": "markdown",
   "metadata": {},
   "source": [
    "### Renaming Columns"
   ]
  },
  {
   "cell_type": "markdown",
   "metadata": {},
   "source": [
    "The fields in the column \"CATEGORY\" were renamed to make it clearer on what each category number represented based on information from the website the original raw data was taken from. For example, category 1 corresponds with \"Art\". "
   ]
  },
  {
   "cell_type": "code",
   "execution_count": 10,
   "metadata": {},
   "outputs": [
    {
     "name": "stdout",
     "output_type": "stream",
     "text": [
      "[12 16 11  7 14  3 26 10  1 18  9 13 17 15  6]\n",
      "['Games' 'Technology' 'Film & Video' 'Design' 'Music' 'Comics' 'Crafts'\n",
      " 'Food' 'Art' 'Publishing' 'Fashion' 'Journalism' 'Theater' 'Photography'\n",
      " 'Dance']\n"
     ]
    }
   ],
   "source": [
    "print(clean_data[\"CATEGORY\"].unique())\n",
    "clean_data[\"CATEGORY\"] = clean_data[\"CATEGORY\"].astype(str)\n",
    "clean_data[\"CATEGORY\"] = clean_data[\"CATEGORY\"].replace({\"1\":\"Art\", \"3\":\"Comics\", \"6\": \"Dance\", \n",
    "                                                         \"7\":\"Design\", \"9\":\"Fashion\", \"10\":\"Food\",\n",
    "                                                         \"11\": \"Film & Video\", \"12\":\"Games\",\n",
    "                                                         \"13\": \"Journalism\", \"14\":\"Music\", \n",
    "                                                         \"15\":\"Photography\", \"16\":\"Technology\",\n",
    "                                                         \"17\":\"Theater\", \"18\": \"Publishing\", \n",
    "                                                         \"26\": \"Crafts\"})\n",
    "print(clean_data[\"CATEGORY\"].unique())"
   ]
  },
  {
   "cell_type": "markdown",
   "metadata": {},
   "source": [
    "The columns were renamed to be more concise and intuitive to understand."
   ]
  },
  {
   "cell_type": "code",
   "execution_count": null,
   "metadata": {},
   "outputs": [
    {
     "name": "stdout",
     "output_type": "stream",
     "text": [
      "   category project_location original_currency  goal_original_currency  \\\n",
      "0        12            Osaka               JPY                68000000   \n",
      "1        12            Tokyo               JPY                53808516   \n",
      "2        12         Ishikawa               JPY                45000000   \n",
      "3        12        Chiba-shi               JPY                16665000   \n",
      "4        16            Tokyo               JPY                15000000   \n",
      "\n",
      "   pledged_original_currency  goal_usd  pledged_usd num_backers     success  \\\n",
      "0                   81030744    623968       743538       12613  successful   \n",
      "1                  481621841    510735      4571420       46307  successful   \n",
      "2                   98863825    414327       910266        8051  successful   \n",
      "3                   23606140    148285       210047        1705  successful   \n",
      "4                   17406300    133229       154601         656  successful   \n",
      "\n",
      "   duration_in_days  launched_year  \n",
      "0                40           2018  \n",
      "1                33           2020  \n",
      "2                 8           2019  \n",
      "3                30           2018  \n",
      "4                60           2017  \n"
     ]
    }
   ],
   "source": [
    "clean_data = clean_data.rename(columns = {\n",
    "    \"CATEGORY\" : \"category\",\n",
    "    \"PROJECT_PAGE_LOCATION_NAME\" : \"project_location\",\n",
    "    \"PROJECT_CURRENCY\" : \"original_currency\",\n",
    "    \"GOAL_IN_ORIGINAL_CURRENCY\" : \"goal_original_currency\",\n",
    "    \"PLEDGED_IN_ORIGINAL_CURRENCY\" : \"pledged_original_currency\",\n",
    "    \"GOAL_IN_USD\" : \"goal_usd\",\n",
    "    \"PLEDGED_IN_USD\" : \"pledged_usd\",\n",
    "    \"BACKERS_COUNT\" : \"num_backers\",\n",
    "    \"STATE\" : \"success\"})\n",
    "\n",
    "print(clean_data.head())"
   ]
  },
  {
   "cell_type": "markdown",
   "metadata": {},
   "source": [
    "### Exporting to CSV"
   ]
  },
  {
   "cell_type": "code",
   "execution_count": 12,
   "metadata": {},
   "outputs": [],
   "source": [
    "clean_data = clean_data.to_csv(\"kickstarter_data.csv\", index = False)"
   ]
  }
 ],
 "metadata": {
  "kernelspec": {
   "display_name": "info2950",
   "language": "python",
   "name": "python3"
  },
  "language_info": {
   "codemirror_mode": {
    "name": "ipython",
    "version": 3
   },
   "file_extension": ".py",
   "mimetype": "text/x-python",
   "name": "python",
   "nbconvert_exporter": "python",
   "pygments_lexer": "ipython3",
   "version": "3.12.2"
  }
 },
 "nbformat": 4,
 "nbformat_minor": 2
}
